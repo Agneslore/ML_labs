{
  "cells": [
    {
      "attachments": {},
      "cell_type": "markdown",
      "metadata": {
        "id": "E5AYt3Cn35zA"
      },
      "source": [
        "**Challenge: Implement a Multiclass Classification Neural Network using PyTorch**\n",
        "\n",
        "Objective:\n",
        "Build a neural network using PyTorch to predict handwritten digits of MNIST.\n",
        "\n",
        "Steps:\n",
        "\n",
        "1. **Data Preparation**: Load the MNIST dataset using ```torchvision.datasets.MNIST```. Standardize/normalize the features. Split the dataset into training and testing sets using, for example, ```sklearn.model_selection.train_test_split()```. **Bonus scores**: *use PyTorch's built-* ```DataLoader``` *to split the dataset*.\n",
        "\n",
        "2. **Neural Network Architecture**: Define a simple feedforward neural network using PyTorch's ```nn.Module```. Design the input layer to match the number of features in the MNIST dataset and the output layer to have as many neurons as there are classes (10). You can experiment with the number of hidden layers and neurons to optimize the performance. **Bonus scores**: *Make your architecture flexibile to have as many hidden layers as the user wants, and use hyperparameter optimization to select the best number of hidden layeres.*\n",
        "\n",
        "3. **Loss Function and Optimizer**: Choose an appropriate loss function for multiclass classification. Select an optimizer, like SGD (Stochastic Gradient Descent) or Adam.\n",
        "\n",
        "4. **Training**: Write a training loop to iterate over the dataset.\n",
        "Forward pass the input through the network, calculate the loss, and perform backpropagation. Update the weights of the network using the chosen optimizer.\n",
        "\n",
        "5. **Testing**: Evaluate the trained model on the test set. Calculate the accuracy of the model.\n",
        "\n",
        "6. **Optimization**: Experiment with hyperparameters (learning rate, number of epochs, etc.) to optimize the model's performance. Consider adjusting the neural network architecture for better results. **Notice that you can't use the optimization algorithms from scikit-learn that we saw in lab1: e.g.,** ```GridSearchCV```.\n"
      ]
    },
    {
      "cell_type": "markdown",
      "metadata": {},
      "source": [
        "Solaire of Astora here, \\\\[T]/\n",
        "\n",
        "This is **not** my first rodeo, not to brag but I myself have trained a lot of models soo... let's see if I can make a massacre out of MNIST for the hundredth time.\n",
        "\n",
        "Let's first import our tools."
      ]
    },
    {
      "cell_type": "code",
      "execution_count": 1,
      "metadata": {
        "id": "5XLynrxJ33v6"
      },
      "outputs": [
        {
          "name": "stderr",
          "output_type": "stream",
          "text": [
            "c:\\Python311\\Lib\\site-packages\\tqdm\\auto.py:21: TqdmWarning: IProgress not found. Please update jupyter and ipywidgets. See https://ipywidgets.readthedocs.io/en/stable/user_install.html\n",
            "  from .autonotebook import tqdm as notebook_tqdm\n"
          ]
        }
      ],
      "source": [
        "import torch\n",
        "import torch.nn as nn\n",
        "import torchvision.transforms as T # We'll need this one for a lil party trick.\n",
        "from torchvision.datasets import MNIST\n",
        "from torch.utils.data import DataLoader, Subset, Dataset\n",
        "\n",
        "import tqdm\n",
        "import random\n",
        "import numpy as np\n",
        "from matplotlib import pyplot as plt"
      ]
    },
    {
      "cell_type": "markdown",
      "metadata": {},
      "source": [
        "First let's prepare our data, we split into train, valid, and test of course (using seed for reproducibility)"
      ]
    },
    {
      "cell_type": "code",
      "execution_count": 2,
      "metadata": {},
      "outputs": [
        {
          "name": "stdout",
          "output_type": "stream",
          "text": [
            "54000 6000 10000\n"
          ]
        }
      ],
      "source": [
        "underlying_dataset = MNIST(\"downloads\", train=True, download=True, transform=T.ToTensor())\n",
        "\n",
        "indexes = list(range(len(underlying_dataset)))\n",
        "random.seed(42)\n",
        "random.shuffle(indexes)\n",
        "\n",
        "n_train = int(len(indexes) * .9)\n",
        "underlying_train_dset = Subset(underlying_dataset, indexes[:n_train])\n",
        "underlying_valid_dset = Subset(underlying_dataset, indexes[n_train:])\n",
        "\n",
        "underlying_test_dset = MNIST(\"downloads\", train=False, download=True, transform=T.ToTensor())\n",
        "\n",
        "print(n_train, len(indexes) - n_train, len(underlying_test_dset))"
      ]
    },
    {
      "cell_type": "markdown",
      "metadata": {},
      "source": [
        "As I want to normalize the inputs, let's first calculate mean and standard deviation from the training set."
      ]
    },
    {
      "cell_type": "code",
      "execution_count": 3,
      "metadata": {},
      "outputs": [],
      "source": [
        "# images = []\n",
        "# for img, _ in underlying_train_dset:\n",
        "#     images.append(img)\n",
        "#\n",
        "# images = torch.stack(images)\n",
        "#\n",
        "# print(images.mean(), images.std())\n",
        "## 0.1306, 0.3081"
      ]
    },
    {
      "cell_type": "code",
      "execution_count": 4,
      "metadata": {},
      "outputs": [],
      "source": [
        "class MyDataset(Dataset):\n",
        "    def __init__(self, underlying_data, transform):\n",
        "        self.data = underlying_data\n",
        "        self.transform = transform\n",
        "\n",
        "    def __len__(self):\n",
        "        return len(self.data)\n",
        "\n",
        "    def __getitem__(self, idx):\n",
        "        if torch.is_tensor(idx):\n",
        "            idx = idx.tolist()\n",
        "\n",
        "        image, label = self.data[idx]\n",
        "        image = self.transform(image)\n",
        "        return (image, label)"
      ]
    },
    {
      "attachments": {},
      "cell_type": "markdown",
      "metadata": {},
      "source": [
        "This is the neat trick that'll help us- the elastic transform! It distorts images and, in this specific case, is great as it represents those little inconsistencies that we make when writing."
      ]
    },
    {
      "cell_type": "code",
      "execution_count": 5,
      "metadata": {},
      "outputs": [
        {
          "data": {
            "image/png": "[encoded data removed]",
            "text/plain": [
              "<Figure size 800x800 with 10 Axes>"
            ]
          },
          "metadata": {},
          "output_type": "display_data"
        }
      ],
      "source": [
        "elastic = T.ElasticTransform()\n",
        "\n",
        "fig=plt.figure(figsize=(8, 8))\n",
        "for i in range(10):\n",
        "    a = underlying_train_dset[i][0]\n",
        "    a = elastic(a)[0]\n",
        "    fig.add_subplot(2, 5, i+1)\n",
        "    plt.imshow(a)\n",
        "\n",
        "plt.show()"
      ]
    },
    {
      "cell_type": "code",
      "execution_count": 6,
      "metadata": {},
      "outputs": [],
      "source": [
        "train_transform = T.Compose([\n",
        "    T.ElasticTransform(),\n",
        "    T.Normalize(0.1306, 0.3081)\n",
        "])\n",
        "\n",
        "valid_test_transform = T.Normalize(0.1306, 0.3081)\n",
        "\n",
        "train_dset = MyDataset(underlying_train_dset, train_transform)\n",
        "valid_dset = MyDataset(underlying_valid_dset, valid_test_transform)\n",
        "test_dset = MyDataset(underlying_test_dset, valid_test_transform)"
      ]
    },
    {
      "attachments": {},
      "cell_type": "markdown",
      "metadata": {},
      "source": [
        "We now write our model, I'll go for a CNN with the highest number of tricks I can muster-"
      ]
    },
    {
      "cell_type": "code",
      "execution_count": 7,
      "metadata": {},
      "outputs": [
        {
          "name": "stdout",
          "output_type": "stream",
          "text": [
            "31530\n",
            "torch.Size([32, 10])\n"
          ]
        }
      ],
      "source": [
        "class Classifier(nn.Module):\n",
        "    def __init__(self, conv_layers = [(16, 3, 1, 2), (16, 3, 1, 2), (16, 3, 1, None)], fin_dec=(2,2), linear_layers=[(128, .5), (128, .5)], classes=10):\n",
        "\n",
        "        assert len(conv_layers) > 0\n",
        "        assert len(linear_layers) > 0\n",
        "\n",
        "        super().__init__()\n",
        "\n",
        "        prev_dims = 1\n",
        "        modules = []\n",
        "\n",
        "        for i, (dims, k_size, stride, max_pool) in enumerate(conv_layers):\n",
        "            \n",
        "            conv = nn.Conv2d(prev_dims, dims, k_size, stride)\n",
        "\n",
        "            nn.init.kaiming_normal_(conv.weight, a=.1, mode=\"fan_out\", nonlinearity=\"leaky_relu\")\n",
        "            nn.init.constant_(conv.bias, 0)\n",
        "\n",
        "            bn = nn.BatchNorm2d(dims)\n",
        "\n",
        "            nn.init.constant_(bn.weight, 1)\n",
        "            nn.init.constant_(bn.bias, 0)\n",
        "\n",
        "            if max_pool is None or i >= len(conv_layers) - 1:\n",
        "                pool = nn.Identity()\n",
        "            else:\n",
        "                pool = nn.MaxPool2d(max_pool)\n",
        "\n",
        "            modules.append(conv)\n",
        "            modules.append(nn.LeakyReLU(.1, True))\n",
        "            modules.append(bn)\n",
        "            modules.append(pool)\n",
        "\n",
        "            prev_dims = dims\n",
        "        \n",
        "        modules.append(nn.AdaptiveMaxPool2d(fin_dec))\n",
        "        modules.append(nn.Flatten())\n",
        "\n",
        "        for v in fin_dec:\n",
        "            prev_dims *= v\n",
        "\n",
        "        for dims, p in linear_layers:\n",
        "            \n",
        "            ll = nn.Linear(prev_dims, dims)\n",
        "\n",
        "            nn.init.kaiming_normal_(ll.weight, a=.1, mode=\"fan_out\", nonlinearity=\"leaky_relu\")\n",
        "            nn.init.constant_(ll.bias, 0)\n",
        "\n",
        "            bn = nn.BatchNorm1d(dims)\n",
        "\n",
        "            nn.init.constant_(bn.weight, 1)\n",
        "            nn.init.constant_(bn.bias, 0)\n",
        "\n",
        "            modules.append(ll)\n",
        "            modules.append(nn.LeakyReLU(.1, True))\n",
        "            modules.append(bn)\n",
        "            modules.append(nn.Dropout(p, True))\n",
        "\n",
        "            prev_dims = dims\n",
        "\n",
        "        ll = nn.Linear(prev_dims, classes)\n",
        "        nn.init.kaiming_normal_(ll.weight, mode=\"fan_out\", nonlinearity=\"linear\")\n",
        "        nn.init.constant_(ll.bias, 0)\n",
        "\n",
        "        modules.append(ll)\n",
        "\n",
        "        self.pred = nn.Sequential(*modules)\n",
        "\n",
        "    def forward(self, x):\n",
        "        return self.pred(x)\n",
        "    \n",
        "# Test\n",
        "model = Classifier()\n",
        "print(sum([p.numel() for p in model.parameters()]))\n",
        "\n",
        "fake_in = torch.randn((32, 1, 28, 28))\n",
        "fake_out = model(fake_in)\n",
        "print(fake_out.shape)\n",
        "\n",
        "del model\n",
        "del fake_in\n",
        "del fake_out"
      ]
    },
    {
      "attachments": {},
      "cell_type": "markdown",
      "metadata": {},
      "source": [
        "Now that we've defined our model, let's define a small training loop:"
      ]
    },
    {
      "cell_type": "code",
      "execution_count": 8,
      "metadata": {},
      "outputs": [],
      "source": [
        "def train(lr, wd, batch_size, epochs, train_dset=train_dset, valid_dset=valid_dset):\n",
        "    device = \"cuda\" if torch.cuda.is_available() else \"cpu\"\n",
        "\n",
        "    torch.random.manual_seed(42)\n",
        "    train = DataLoader(train_dset, batch_size, shuffle=True)\n",
        "    valid = DataLoader(valid_dset, batch_size, shuffle=False)\n",
        "\n",
        "    model = Classifier().to(device)\n",
        "    optimizer = torch.optim.AdamW(model.parameters(), lr=lr, weight_decay=wd)\n",
        "    scheduler = torch.optim.lr_scheduler.ReduceLROnPlateau(optimizer, mode=\"max\", factor=.1, patience=3, threshold=.2, min_lr=1e-6)\n",
        "\n",
        "    criterion = nn.CrossEntropyLoss(reduction=\"none\")\n",
        "\n",
        "    pbar = tqdm.tqdm()\n",
        "\n",
        "    tot_train = len(train_dset)\n",
        "    train_accus = []\n",
        "    valid_accus = []\n",
        "\n",
        "    best_accu = 0\n",
        "\n",
        "    for epoch in range(epochs):\n",
        "        losses = []\n",
        "        accus = []\n",
        "\n",
        "        model.train()\n",
        "\n",
        "        pbar.set_description_str(f\"Train {epoch + 1:02d}\", refresh=False)\n",
        "        pbar.reset(tot_train)\n",
        "        \n",
        "        for img, target in train:\n",
        "            img = img.to(device)\n",
        "            target = target.to(device)\n",
        "\n",
        "            pred = model(img)\n",
        "\n",
        "            loss = criterion(pred, target)\n",
        "            loss.mean().backward()\n",
        "\n",
        "            optimizer.step()\n",
        "            optimizer.zero_grad()\n",
        "\n",
        "            accu = (pred.argmax(-1) == target).float()\n",
        "\n",
        "            losses.extend(loss.detach().cpu().tolist())\n",
        "            accus.extend(accu.detach().cpu().tolist())\n",
        "\n",
        "            if len(losses) >= tot_train * .1:\n",
        "                mean_loss = torch.tensor(losses).mean().item()\n",
        "                mean_accu = torch.tensor(accus).mean().item()\n",
        "                pbar.set_postfix_str(f\"loss={mean_loss:.3f}, accu={mean_accu:.3f}\", refresh=False)\n",
        "                losses.clear()\n",
        "                accus.clear()\n",
        "                train_accus.append(mean_accu)\n",
        "\n",
        "            pbar.update(img.shape[0])\n",
        "        \n",
        "        model.eval()\n",
        "\n",
        "        with torch.no_grad():\n",
        "            losses = []\n",
        "            accus = []\n",
        "\n",
        "            for img, target in valid:\n",
        "                img = img.to(device)\n",
        "                target = target.to(device)\n",
        "\n",
        "                pred = model(img)\n",
        "\n",
        "                loss = criterion(pred, target)\n",
        "\n",
        "                accu = (pred.argmax(-1) == target).float()\n",
        "\n",
        "                losses.extend(loss.cpu().tolist())\n",
        "                accus.extend(accu.cpu().tolist())\n",
        "\n",
        "            mean_loss = torch.tensor(losses).mean().item()\n",
        "            mean_accu = torch.tensor(accus).mean().item()\n",
        "            print(f\"Valid {epoch +1:02d}: loss={mean_loss:.3f}, accu={mean_accu:.3f}\")\n",
        "\n",
        "            valid_accus.append(mean_accu)\n",
        "            scheduler.step(mean_accu)\n",
        "\n",
        "            if best_accu < mean_accu:\n",
        "                best_accu = mean_accu\n",
        "    \n",
        "    return model, train_accus, valid_accus, best_accu\n"
      ]
    },
    {
      "cell_type": "code",
      "execution_count": 9,
      "metadata": {},
      "outputs": [
        {
          "name": "stderr",
          "output_type": "stream",
          "text": [
            "Train 01: 100%|██████████| 54000/54000 [02:04<00:00, 432.91it/s, loss=1.309, accu=0.812]\n"
          ]
        },
        {
          "name": "stdout",
          "output_type": "stream",
          "text": [
            "Valid 01: loss=0.401, accu=0.934\n"
          ]
        },
        {
          "name": "stderr",
          "output_type": "stream",
          "text": [
            "Train 01: 100%|██████████| 54000/54000 [02:35<00:00, 346.35it/s, loss=1.320, accu=0.820]\n"
          ]
        },
        {
          "name": "stdout",
          "output_type": "stream",
          "text": [
            "Valid 01: loss=0.394, accu=0.943\n"
          ]
        },
        {
          "name": "stderr",
          "output_type": "stream",
          "text": [
            "Train 01: 100%|██████████| 54000/54000 [02:35<00:00, 346.97it/s, loss=1.001, accu=0.837]\n"
          ]
        },
        {
          "name": "stdout",
          "output_type": "stream",
          "text": [
            "Valid 01: loss=0.528, accu=0.936\n"
          ]
        },
        {
          "name": "stderr",
          "output_type": "stream",
          "text": [
            "Train 01: 100%|██████████| 54000/54000 [02:26<00:00, 368.66it/s, loss=1.738, accu=0.800]\n"
          ]
        },
        {
          "name": "stdout",
          "output_type": "stream",
          "text": [
            "Valid 01: loss=0.344, accu=0.956\n"
          ]
        },
        {
          "name": "stderr",
          "output_type": "stream",
          "text": [
            "Train 01: 100%|██████████| 54000/54000 [02:11<00:00, 411.90it/s, loss=0.251, accu=0.922]\n"
          ]
        },
        {
          "name": "stdout",
          "output_type": "stream",
          "text": [
            "Valid 01: loss=0.095, accu=0.970\n"
          ]
        },
        {
          "name": "stderr",
          "output_type": "stream",
          "text": [
            "Train 01: 100%|██████████| 54000/54000 [02:10<00:00, 415.01it/s, loss=0.245, accu=0.930]\n"
          ]
        },
        {
          "name": "stdout",
          "output_type": "stream",
          "text": [
            "Valid 01: loss=0.080, accu=0.979\n"
          ]
        },
        {
          "name": "stderr",
          "output_type": "stream",
          "text": [
            "Train 01: 100%|██████████| 54000/54000 [02:08<00:00, 421.00it/s, loss=0.250, accu=0.928]\n"
          ]
        },
        {
          "name": "stdout",
          "output_type": "stream",
          "text": [
            "Valid 01: loss=0.073, accu=0.979\n"
          ]
        },
        {
          "name": "stderr",
          "output_type": "stream",
          "text": [
            "Train 01: 100%|██████████| 54000/54000 [02:05<00:00, 428.61it/s, loss=0.249, accu=0.927]\n"
          ]
        },
        {
          "name": "stdout",
          "output_type": "stream",
          "text": [
            "Valid 01: loss=0.105, accu=0.969\n"
          ]
        },
        {
          "name": "stderr",
          "output_type": "stream",
          "text": [
            "Train 01: 100%|██████████| 54000/54000 [02:07<00:00, 423.47it/s, loss=0.529, accu=0.848]\n"
          ]
        },
        {
          "name": "stdout",
          "output_type": "stream",
          "text": [
            "Valid 01: loss=0.133, accu=0.959\n"
          ]
        },
        {
          "name": "stderr",
          "output_type": "stream",
          "text": [
            "Train 01: 100%|██████████| 54000/54000 [01:58<00:00, 454.87it/s, loss=0.531, accu=0.844]\n"
          ]
        },
        {
          "name": "stdout",
          "output_type": "stream",
          "text": [
            "Valid 01: loss=0.148, accu=0.953\n"
          ]
        },
        {
          "name": "stderr",
          "output_type": "stream",
          "text": [
            "Train 01: 100%|██████████| 54000/54000 [01:57<00:00, 457.88it/s, loss=0.528, accu=0.848]\n"
          ]
        },
        {
          "name": "stdout",
          "output_type": "stream",
          "text": [
            "Valid 01: loss=0.142, accu=0.957\n"
          ]
        },
        {
          "name": "stderr",
          "output_type": "stream",
          "text": [
            "Train 01: 100%|██████████| 54000/54000 [01:58<00:00, 454.06it/s, loss=0.528, accu=0.848]\n"
          ]
        },
        {
          "name": "stdout",
          "output_type": "stream",
          "text": [
            "Valid 01: loss=0.142, accu=0.957\n"
          ]
        },
        {
          "name": "stderr",
          "output_type": "stream",
          "text": [
            "Train 01: 100%|██████████| 54000/54000 [02:07<00:00, 425.04it/s, loss=2.365, accu=0.527]\n"
          ]
        },
        {
          "name": "stdout",
          "output_type": "stream",
          "text": [
            "Valid 01: loss=0.710, accu=0.787\n"
          ]
        },
        {
          "name": "stderr",
          "output_type": "stream",
          "text": [
            "Train 01: 100%|██████████| 54000/54000 [02:09<00:00, 417.80it/s, loss=2.362, accu=0.529]\n"
          ]
        },
        {
          "name": "stdout",
          "output_type": "stream",
          "text": [
            "Valid 01: loss=0.713, accu=0.791\n"
          ]
        },
        {
          "name": "stderr",
          "output_type": "stream",
          "text": [
            "Train 01: 100%|██████████| 54000/54000 [02:05<00:00, 431.22it/s, loss=2.362, accu=0.529]\n"
          ]
        },
        {
          "name": "stdout",
          "output_type": "stream",
          "text": [
            "Valid 01: loss=0.713, accu=0.791\n"
          ]
        },
        {
          "name": "stderr",
          "output_type": "stream",
          "text": [
            "Train 01: 100%|██████████| 54000/54000 [02:04<00:00, 433.01it/s, loss=2.362, accu=0.529]"
          ]
        },
        {
          "name": "stdout",
          "output_type": "stream",
          "text": [
            "Valid 01: loss=0.713, accu=0.791\n"
          ]
        },
        {
          "name": "stderr",
          "output_type": "stream",
          "text": [
            "\n"
          ]
        }
      ],
      "source": [
        "lrs = [1e-1, 1e-2, 1e-3, 1e-4]\n",
        "wds = [1e-3, 1e-4, 1e-5, 0]\n",
        "results = dict()\n",
        "\n",
        "for lr in lrs:\n",
        "    for wd in wds:\n",
        "        _, _, _, accu = train(lr, wd, 32, 1)\n",
        "        results[(lr, wd)] = accu\n",
        "\n",
        "# W\\ bn\n",
        "# Train 01: 100%|██████████| 54000/54000 [01:56<00:00, 463.44it/s, Valid 01: loss=0.351, accu=0.943]\n",
        "# Train 01: 100%|██████████| 54000/54000 [01:59<00:00, 450.89it/s, Valid 01: loss=0.779, accu=0.920]\n",
        "# Train 01: 100%|██████████| 54000/54000 [02:00<00:00, 447.74it/s, Valid 01: loss=0.232, accu=0.960]\n",
        "# Train 01: 100%|██████████| 54000/54000 [01:52<00:00, 481.36it/s, Valid 01: loss=0.430, accu=0.956]\n",
        "# Train 01: 100%|██████████| 54000/54000 [01:53<00:00, 475.70it/s, Valid 01: loss=0.077, accu=0.976]\n",
        "# Train 01: 100%|██████████| 54000/54000 [01:55<00:00, 466.85it/s, Valid 01: loss=0.087, accu=0.973]\n",
        "# Train 01: 100%|██████████| 54000/54000 [01:55<00:00, 466.24it/s, Valid 01: loss=0.102, accu=0.968]\n",
        "# Train 01: 100%|██████████| 54000/54000 [01:50<00:00, 486.74it/s, Valid 01: loss=0.085, accu=0.973]\n",
        "# Train 01: 100%|██████████| 54000/54000 [01:50<00:00, 487.55it/s, Valid 01: loss=0.126, accu=0.962]\n",
        "# Train 01: 100%|██████████| 54000/54000 [01:51<00:00, 482.61it/s, Valid 01: loss=0.132, accu=0.962]\n",
        "# Train 01: 100%|██████████| 54000/54000 [01:51<00:00, 483.76it/s, Valid 01: loss=0.125, accu=0.964]\n",
        "# Train 01: 100%|██████████| 54000/54000 [01:51<00:00, 483.94it/s, Valid 01: loss=0.125, accu=0.964]\n",
        "# Train 01: 100%|██████████| 54000/54000 [01:51<00:00, 483.44it/s, Valid 01: loss=0.631, accu=0.824]\n",
        "# Train 01: 100%|██████████| 54000/54000 [01:52<00:00, 482.03it/s, Valid 01: loss=0.625, accu=0.826]\n",
        "# Train 01: 100%|██████████| 54000/54000 [01:52<00:00, 482.00it/s, Valid 01: loss=0.625, accu=0.826]\n",
        "# Train 01: 100%|██████████| 54000/54000 [01:51<00:00, 485.27it/s, Valid 01: loss=0.625, accu=0.826]"
      ]
    },
    {
      "cell_type": "code",
      "execution_count": 10,
      "metadata": {},
      "outputs": [
        {
          "name": "stdout",
          "output_type": "stream",
          "text": [
            "{(0.1, 0.001): 0.9338333606719971, (0.1, 0.0001): 0.9428333044052124, (0.1, 1e-05): 0.9358333349227905, (0.1, 0): 0.9558333158493042, (0.01, 0.001): 0.9704999923706055, (0.01, 0.0001): 0.9788333177566528, (0.01, 1e-05): 0.9793333411216736, (0.01, 0): 0.968666672706604, (0.001, 0.001): 0.9593333601951599, (0.001, 0.0001): 0.953499972820282, (0.001, 1e-05): 0.9574999809265137, (0.001, 0): 0.9574999809265137, (0.0001, 0.001): 0.7873333096504211, (0.0001, 0.0001): 0.7910000085830688, (0.0001, 1e-05): 0.7910000085830688, (0.0001, 0): 0.7910000085830688}\n"
          ]
        }
      ],
      "source": [
        "print(results)"
      ]
    }
  ],
  "metadata": {
    "colab": {
      "provenance": []
    },
    "kernelspec": {
      "display_name": "Python 3",
      "name": "python3"
    },
    "language_info": {
      "codemirror_mode": {
        "name": "ipython",
        "version": 3
      },
      "file_extension": ".py",
      "mimetype": "text/x-python",
      "name": "python",
      "nbconvert_exporter": "python",
      "pygments_lexer": "ipython3",
      "version": "3.11.6"
    }
  },
  "nbformat": 4,
  "nbformat_minor": 0
}
