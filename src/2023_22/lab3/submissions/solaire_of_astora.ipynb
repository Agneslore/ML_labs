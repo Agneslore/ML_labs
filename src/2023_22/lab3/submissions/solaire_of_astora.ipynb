{
  "cells": [
    {
      "cell_type": "markdown",
      "metadata": {
        "id": "E5AYt3Cn35zA"
      },
      "source": [
        "**Challenge: Implement a Multiclass Classification Neural Network using PyTorch**\n",
        "\n",
        "Objective:\n",
        "Build a feedforward neural network using PyTorch to predict the species of iris flowers in a multiclass classification problem. The dataset used for this challenge is the Iris dataset, which consists of features like sepal length, sepal width, petal length, and petal width.\n",
        "\n",
        "Steps:\n",
        "\n",
        "1. **Data Preparation**: Load the MNIST dataset using ```torchvision.datasets.MNIST```. Standardize/normalize the features. Split the dataset into training and testing sets using, for example, ```sklearn.model_selection.train_test_split()```. **Bonus scores**: *use PyTorch's built-* ```DataLoader``` *to split the dataset*.\n",
        "\n",
        "2. **Neural Network Architecture**: Define a simple feedforward neural network using PyTorch's ```nn.Module```. Design the input layer to match the number of features in the MNIST dataset and the output layer to have as many neurons as there are classes (10). You can experiment with the number of hidden layers and neurons to optimize the performance. **Bonus scores**: *Make your architecture flexibile to have as many hidden layers as the user wants, and use hyperparameter optimization to select the best number of hidden layeres.*\n",
        "\n",
        "3. **Loss Function and Optimizer**: Choose an appropriate loss function for multiclass classification. Select an optimizer, like SGD (Stochastic Gradient Descent) or Adam.\n",
        "\n",
        "4. **Training**: Write a training loop to iterate over the dataset.\n",
        "Forward pass the input through the network, calculate the loss, and perform backpropagation. Update the weights of the network using the chosen optimizer.\n",
        "\n",
        "5. **Testing**: Evaluate the trained model on the test set. Calculate the accuracy of the model.\n",
        "\n",
        "6. **Optimization**: Experiment with hyperparameters (learning rate, number of epochs, etc.) to optimize the model's performance. Consider adjusting the neural network architecture for better results. **Notice that you can't use the optimization algorithms from scikit-learn that we saw in lab1: e.g.,** ```GridSearchCV```.\n"
      ]
    },
    {
      "cell_type": "markdown",
      "metadata": {},
      "source": [
        "Solaire of Astora here, \\\\[T]/\n",
        "\n",
        "This is **not** my first rodeo, not to brag but I myself have trained a lot of models soo... let's see if I can make a massacre out of MNIST for the hundredth time.\n",
        "\n",
        "Let's first import our tools."
      ]
    },
    {
      "cell_type": "code",
      "execution_count": 1,
      "metadata": {
        "id": "5XLynrxJ33v6"
      },
      "outputs": [],
      "source": [
        "import torch\n",
        "import torch.nn as nn\n",
        "import torchvision.transforms as T # We'll need this one for a lil party trick.\n",
        "from torchvision.datasets import MNIST\n",
        "from torch.utils.data import DataLoader, Subset, Dataset\n",
        "\n",
        "import random\n",
        "import numpy as np"
      ]
    },
    {
      "cell_type": "markdown",
      "metadata": {},
      "source": [
        "First let's prepare our data, we split into train, valid, and test of course (using seed for reproducibility)"
      ]
    },
    {
      "cell_type": "code",
      "execution_count": 9,
      "metadata": {},
      "outputs": [
        {
          "name": "stdout",
          "output_type": "stream",
          "text": [
            "54000 6000 10000\n"
          ]
        }
      ],
      "source": [
        "underlying_dataset = MNIST(\"downloads\", train=True, download=True, transform=T.ToTensor())\n",
        "\n",
        "indexes = list(range(len(underlying_dataset)))\n",
        "random.seed(42)\n",
        "random.shuffle(indexes)\n",
        "\n",
        "n_train = int(len(indexes) * .9)\n",
        "underlying_train_dset = Subset(underlying_dataset, indexes[:n_train])\n",
        "underlying_valid_dset = Subset(underlying_dataset, indexes[n_train:])\n",
        "\n",
        "underlying_test_dset = MNIST(\"downloads\", train=False, download=True, transform=T.ToTensor())\n",
        "\n",
        "print(n_train, len(indexes) - n_train, len(underlying_test_dset))"
      ]
    },
    {
      "cell_type": "markdown",
      "metadata": {},
      "source": [
        "As I want to normalize the inputs, let's first calculate mean and standard deviation from the training set."
      ]
    },
    {
      "cell_type": "code",
      "execution_count": 10,
      "metadata": {},
      "outputs": [
        {
          "name": "stdout",
          "output_type": "stream",
          "text": [
            "tensor(0.1306) tensor(0.3081)\n"
          ]
        }
      ],
      "source": [
        "# images = []\n",
        "# for img, _ in underlying_train_dset:\n",
        "#     images.append(img)\n",
        "#\n",
        "# images = torch.stack(images)\n",
        "#\n",
        "# print(images.mean(), images.std())\n",
        "## tensor(0.1306) tensor(0.3081)"
      ]
    },
    {
      "cell_type": "code",
      "execution_count": null,
      "metadata": {},
      "outputs": [],
      "source": [
        "class MyDataset(Dataset):\n",
        "    def __init__(self, underlying_data, transform):\n",
        "        self.data = underlying_data\n",
        "        self.transform = transform\n",
        "\n",
        "    def __len__(self):\n",
        "        return len(self.data)\n",
        "\n",
        "    def __getitem__(self, idx):\n",
        "        if torch.is_tensor(idx):\n",
        "            idx = idx.tolist()\n",
        "\n",
        "        image, label = self.data[idx]\n",
        "        image = self.transform(image)\n",
        "        return (image, label)"
      ]
    }
  ],
  "metadata": {
    "colab": {
      "provenance": []
    },
    "kernelspec": {
      "display_name": "Python 3",
      "name": "python3"
    },
    "language_info": {
      "codemirror_mode": {
        "name": "ipython",
        "version": 3
      },
      "file_extension": ".py",
      "mimetype": "text/x-python",
      "name": "python",
      "nbconvert_exporter": "python",
      "pygments_lexer": "ipython3",
      "version": "3.11.3"
    }
  },
  "nbformat": 4,
  "nbformat_minor": 0
}
